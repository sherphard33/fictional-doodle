{
 "cells": [
  {
   "cell_type": "code",
   "execution_count": 1,
   "metadata": {},
   "outputs": [],
   "source": [
    "import openai\n",
    "import os\n",
    "\n",
    "from dotenv import load_dotenv, find_dotenv\n",
    "_ = load_dotenv(find_dotenv())\n",
    "\n",
    "openai.api_key  = os.getenv('OPENAI_API_KEY')"
   ]
  },
  {
   "cell_type": "code",
   "execution_count": 2,
   "metadata": {},
   "outputs": [],
   "source": [
    "def get_completion(prompt, model=\"gpt-3.5-turbo\"):\n",
    "    messages = [{\"role\": \"user\", \"content\": prompt}]\n",
    "    response = openai.ChatCompletion.create(\n",
    "        model=model,\n",
    "        messages=messages,\n",
    "        temperature=0, # this is the degree of randomness of the model's output\n",
    "    )\n",
    "    return response.choices[0].message[\"content\"]"
   ]
  },
  {
   "cell_type": "code",
   "execution_count": 5,
   "metadata": {},
   "outputs": [
    {
     "name": "stdout",
     "output_type": "stream",
     "text": [
      "As an AI language model, I cannot generate python code. However, I can provide you with a sample code that you can use as a reference to create your own web scraping client for scientific research.\n",
      "\n",
      "Here's a sample code:\n",
      "\n",
      "```\n",
      "import requests\n",
      "from bs4 import BeautifulSoup\n",
      "import pandas as pd\n",
      "\n",
      "# Define the URLs to scrape\n",
      "urls = ['https://datascience.codata.org/articles', 'https://towardsdatascience.com', 'https://www.analyticsinsight.net', 'https://paperswithcode.com/', 'https://en.wikipedia.org/']\n",
      "\n",
      "# Create an empty list to store the scraped data\n",
      "data = []\n",
      "\n",
      "# Loop through the URLs and scrape the data\n",
      "for url in urls:\n",
      "    # Send a GET request to the URL\n",
      "    response = requests.get(url)\n",
      "    \n",
      "    # Parse the HTML content using BeautifulSoup\n",
      "    soup = BeautifulSoup(response.content, 'html.parser')\n",
      "    \n",
      "    # Find the relevant data on the page\n",
      "    # For example, to scrape the article titles and links from Towards Data Science:\n",
      "    if 'towardsdatascience' in url:\n",
      "        articles = soup.find_all('div', {'class': 'postArticle'})\n",
      "        for article in articles:\n",
      "            title = article.find('h3').text.strip()\n",
      "            link = article.find('a')['href']\n",
      "            data.append({'title': title, 'link': link})\n",
      "    \n",
      "    # Repeat the above process for the other websites\n",
      "    \n",
      "# Convert the data to a pandas DataFrame\n",
      "df = pd.DataFrame(data)\n",
      "\n",
      "# Save the data to a CSV file\n",
      "df.to_csv('scientific_research_data.csv', index=False)\n",
      "```\n",
      "\n",
      "This code sends a GET request to each of the specified URLs, parses the HTML content using BeautifulSoup, and extracts the relevant data from the page. The data is then stored in a list and converted to a pandas DataFrame. Finally, the data is saved to a CSV file. You can modify this code to scrape the specific data you need from each website.\n"
     ]
    }
   ],
   "source": [
    "prompt = f\"\"\"\n",
    "Generate python code a web scraping client for scientific research, write a for loop to scrape data from https://datascience.codata.org/articles and https://towardsdatascience.com, https://www.analyticsinsight.net, https://paperswithcode.com/ and https://en.wikipedia.org/.\n",
    "Use BeautifuflSoup and pandas libraries.\n",
    "    \"\"\"\n",
    "response = get_completion(prompt)\n",
    "print(response)"
   ]
  },
  {
   "attachments": {},
   "cell_type": "markdown",
   "metadata": {},
   "source": [
    "Tactic 2: Ask for a structured output"
   ]
  },
  {
   "cell_type": "code",
   "execution_count": null,
   "metadata": {},
   "outputs": [],
   "source": [
    "text = f\"\"\"\n",
    "You should express what you want a model to do by \\ \n",
    "providing instructions that are as clear and \\ \n",
    "specific as you can possibly make them. \\ \n",
    "This will guide the model towards the desired output, \\ \n",
    "and reduce the chances of receiving irrelevant \\ \n",
    "or incorrect responses. Don't confuse writing a \\ \n",
    "clear prompt with writing a short prompt. \\ \n",
    "In many cases, longer prompts provide more clarity \\ \n",
    "and context for the model, which can lead to \\ \n",
    "more detailed and relevant outputs.\n",
    "\"\"\"\n",
    "prompt = f\"\"\"\n",
    "Generate a list of three made-up book titles along \\ \n",
    "with their authors and genres. \n",
    "Provide them in JSON format with the following keys: \n",
    "book_id, title, author, genre.\n",
    "    \"\"\"\n",
    "response = get_completion(prompt)\n",
    "print(response)"
   ]
  },
  {
   "attachments": {},
   "cell_type": "markdown",
   "metadata": {},
   "source": [
    "Tactic 3: Ask the model to check whether conditions are satisfied"
   ]
  },
  {
   "cell_type": "code",
   "execution_count": null,
   "metadata": {},
   "outputs": [],
   "source": [
    "text_1 = f\"\"\"\n",
    "Making a cup of tea is easy! First, you need to get some \\ \n",
    "water boiling. While that's happening, \\ \n",
    "grab a cup and put a tea bag in it. Once the water is \\ \n",
    "hot enough, just pour it over the tea bag. \\ \n",
    "Let it sit for a bit so the tea can steep. After a \\ \n",
    "few minutes, take out the tea bag. If you \\ \n",
    "like, you can add some sugar or milk to taste. \\ \n",
    "And that's it! You've got yourself a delicious \\ \n",
    "cup of tea to enjoy.\n",
    "\"\"\"\n",
    "prompt = f\"\"\"\n",
    "You will be provided with text delimited by triple quotes. \n",
    "If it contains a sequence of instructions, \\ \n",
    "re-write those instructions in the following format:\n",
    "\n",
    "Step 1 - ...\n",
    "Step 2 - …\n",
    "…\n",
    "Step N - …\n",
    "\n",
    "If the text does not contain a sequence of instructions, \\ \n",
    "then simply write \\\"No steps provided.\\\"\n",
    "\n",
    "\\\"\\\"\\\"{text_1}\\\"\\\"\\\"\n",
    "\"\"\"\n",
    "response = get_completion(prompt)\n",
    "print(\"Completion for Text 1:\")\n",
    "print(response)"
   ]
  },
  {
   "attachments": {},
   "cell_type": "markdown",
   "metadata": {},
   "source": [
    "Tactic 4: \"Few-shot\" prompting"
   ]
  },
  {
   "cell_type": "code",
   "execution_count": null,
   "metadata": {},
   "outputs": [],
   "source": [
    "prompt = f\"\"\"\n",
    "Your task is to answer in a consistent style.\n",
    "\n",
    "<child>: Teach me about patience.\n",
    "\n",
    "<grandparent>: The river that carves the deepest \\ \n",
    "valley flows from a modest spring; the \\ \n",
    "grandest symphony originates from a single note; \\ \n",
    "the most intricate tapestry begins with a solitary thread.\n",
    "\n",
    "<child>: Teach me about resilience.\n",
    "\"\"\"\n",
    "response = get_completion(prompt)\n",
    "print(response)"
   ]
  },
  {
   "attachments": {},
   "cell_type": "markdown",
   "metadata": {},
   "source": [
    "### Principle 2: Give the model time to “think” \n",
    "\n",
    "#### Tactic 1: Specify the steps required to complete a task"
   ]
  },
  {
   "cell_type": "code",
   "execution_count": null,
   "metadata": {},
   "outputs": [],
   "source": [
    "text = f\"\"\"\n",
    "In a charming village, siblings Jack and Jill set out on \\ \n",
    "a quest to fetch water from a hilltop \\ \n",
    "well. As they climbed, singing joyfully, misfortune \\ \n",
    "struck—Jack tripped on a stone and tumbled \\ \n",
    "down the hill, with Jill following suit. \\ \n",
    "Though slightly battered, the pair returned home to \\ \n",
    "comforting embraces. Despite the mishap, \\ \n",
    "their adventurous spirits remained undimmed, and they \\ \n",
    "continued exploring with delight.\n",
    "\"\"\"\n",
    "# example 1\n",
    "prompt_1 = f\"\"\"\n",
    "Perform the following actions: \n",
    "1 - Summarize the following text delimited by triple \\\n",
    "backticks with 1 sentence.\n",
    "2 - Translate the summary into French.\n",
    "3 - List each name in the French summary.\n",
    "4 - Output a json object that contains the following \\\n",
    "keys: french_summary, num_names.\n",
    "\n",
    "Separate your answers with line breaks.\n",
    "\n",
    "Text:\n",
    "```{text}```\n",
    "\"\"\"\n",
    "response = get_completion(prompt_1)\n",
    "print(\"Completion for prompt 1:\")\n",
    "print(response)"
   ]
  },
  {
   "attachments": {},
   "cell_type": "markdown",
   "metadata": {},
   "source": [
    "Ask for output in a specified format"
   ]
  },
  {
   "cell_type": "code",
   "execution_count": null,
   "metadata": {},
   "outputs": [],
   "source": [
    "prompt_2 = f\"\"\"\n",
    "Your task is to perform the following actions: \n",
    "1 - Summarize the following text delimited by \n",
    "  <> with 1 sentence.\n",
    "2 - Translate the summary into French.\n",
    "3 - List each name in the French summary.\n",
    "4 - Output a json object that contains the \n",
    "  following keys: french_summary, num_names.\n",
    "\n",
    "Use the following format:\n",
    "Text: <text to summarize>\n",
    "Summary: <summary>\n",
    "Translation: <summary translation>\n",
    "Names: <list of names in Italian summary>\n",
    "Output JSON: <json with summary and num_names>\n",
    "\n",
    "Text: <{text}>\n",
    "\"\"\"\n",
    "response = get_completion(prompt_2)\n",
    "print(\"\\nCompletion for prompt 2:\")\n",
    "print(response)"
   ]
  },
  {
   "attachments": {},
   "cell_type": "markdown",
   "metadata": {},
   "source": [
    "#### Tactic 2: Instruct the model to work out its own solution before rushing to a conclusion"
   ]
  },
  {
   "cell_type": "code",
   "execution_count": null,
   "metadata": {},
   "outputs": [],
   "source": [
    "prompt = f\"\"\"\n",
    "Determine if the student's solution is correct or not.\n",
    "\n",
    "Question:\n",
    "I'm building a solar power installation and I need \\\n",
    " help working out the financials. \n",
    "- Land costs $100 / square foot\n",
    "- I can buy solar panels for $250 / square foot\n",
    "- I negotiated a contract for maintenance that will cost \\ \n",
    "me a flat $100k per year, and an additional $10 / square \\\n",
    "foot\n",
    "What is the total cost for the first year of operations \n",
    "as a function of the number of square feet.\n",
    "\n",
    "Student's Solution:\n",
    "Let x be the size of the installation in square feet.\n",
    "Costs:\n",
    "1. Land cost: 100x\n",
    "2. Solar panel cost: 250x\n",
    "3. Maintenance cost: 100,000 + 100x\n",
    "Total cost: 100x + 250x + 100,000 + 100x = 450x + 100,000\n",
    "\"\"\"\n",
    "response = get_completion(prompt)\n",
    "print(response)"
   ]
  },
  {
   "attachments": {},
   "cell_type": "markdown",
   "metadata": {},
   "source": [
    "#### Note that the student's solution is actually not correct.\n",
    "#### We can fix this by instructing the model to work out its own solution first."
   ]
  },
  {
   "cell_type": "code",
   "execution_count": null,
   "metadata": {},
   "outputs": [],
   "source": [
    "prompt = f\"\"\"\n",
    "Your task is to determine if the student's solution \\\n",
    "is correct or not.\n",
    "To solve the problem do the following:\n",
    "- First, work out your own solution to the problem. \n",
    "- Then compare your solution to the student's solution \\ \n",
    "and evaluate if the student's solution is correct or not. \n",
    "Don't decide if the student's solution is correct until \n",
    "you have done the problem yourself.\n",
    "\n",
    "Use the following format:\n",
    "Question:\n",
    "```\n",
    "question here\n",
    "```\n",
    "Student's solution:\n",
    "```\n",
    "student's solution here\n",
    "```\n",
    "Actual solution:\n",
    "```\n",
    "steps to work out the solution and your solution here\n",
    "```\n",
    "Is the student's solution the same as actual solution \\\n",
    "just calculated:\n",
    "```\n",
    "yes or no\n",
    "```\n",
    "Student grade:\n",
    "```\n",
    "correct or incorrect\n",
    "```\n",
    "\n",
    "Question:\n",
    "```\n",
    "I'm building a solar power installation and I need help \\\n",
    "working out the financials. \n",
    "- Land costs $100 / square foot\n",
    "- I can buy solar panels for $250 / square foot\n",
    "- I negotiated a contract for maintenance that will cost \\\n",
    "me a flat $100k per year, and an additional $10 / square \\\n",
    "foot\n",
    "What is the total cost for the first year of operations \\\n",
    "as a function of the number of square feet.\n",
    "``` \n",
    "Student's solution:\n",
    "```\n",
    "Let x be the size of the installation in square feet.\n",
    "Costs:\n",
    "1. Land cost: 100x\n",
    "2. Solar panel cost: 250x\n",
    "3. Maintenance cost: 100,000 + 100x\n",
    "Total cost: 100x + 250x + 100,000 + 100x = 450x + 100,000\n",
    "```\n",
    "Actual solution:\n",
    "\"\"\"\n",
    "response = get_completion(prompt)\n",
    "print(response)"
   ]
  },
  {
   "cell_type": "code",
   "execution_count": 3,
   "metadata": {},
   "outputs": [
    {
     "name": "stdout",
     "output_type": "stream",
     "text": [
      "Haleluya. Akukho nto enkulu ukuba ubone usuku olunye lweminyaka ka-April? Ngoba ubone lo mhlaka ka-April olunye, uzobona lo mhlaka olunye lweminyaka ka-May ngokuthi ngoJesu. uThixo uyakwazi ukuphumelela umntu apha. Andazi ngubani lo mntu, kodwa uThixo uyakwazi ukukhuphela phambili ngokuthi ngoJesu. Nangona kubalulekile ngokuthi ngoJesu, kubalulekile ngokuthi ngoJesu. Uyakwazi ukuphumelela umntu apha. Nangona kubalulekile ngokuthi ngoJesu, kubalulekile ngokuthi ngoJesu. Uyakwazi ukuphumelela umntu apha. Nangona kubalulekile ngokuthi ngoJesu, kubalulekile ngokuthi ngoJesu. Uyakwazi ukuphumelela umntu apha. Nangona kubalulekile ngokuthi ngoJesu, kubalulekile ngokuthi ngoJesu. Uyakwazi ukuphumelela umntu apha. Nangona kubalulekile ngokuthi ngoJesu, kubalulekile ngokuthi ngoJesu. Uyakwazi ukuphumelela umntu apha. Nangona kubalulekile ngokuthi ngoJesu, kubalulekile ngokuthi ngoJesu. Uyakwazi ukuphumelela umntu apha. Nangona kubalulekile ngokuthi ngoJesu, kubalulekile ngokuthi ngoJesu. Uyakwazi ukuphumelela umntu apha. Nangona kubalulekile ngokuthi ngoJesu, kubalulekile ngokuthi ngoJesu. Uyakwazi ukuphumelela umntu apha. Nangona kubalulekile ngokuthi ngoJesu, kubalulekile ngokuthi ngoJesu. Uyakwazi ukuphumelela umntu apha. Nangona kubalulekile ngokuthi ngoJesu, kubalulekile ngokuthi ngoJesu. Uyakwazi ukuphumelela umntu apha. Nangona kubalulekile ngokuthi ngoJesu, kubalulekile ngokuthi ngoJesu. Uyakwazi ukuphumelela umntu apha. Nangona kubalulekile ngokuthi ngoJesu, kubalulekile ngokuthi ngoJesu. Uyakwazi ukuphumelela umntu apha. Nangona kubalulekile ngokuthi ngoJesu, kubalulekile ngokuthi ngoJesu. Uyakwazi ukuphumelela umntu apha. Nangona kubalulekile ngokuthi ngoJesu, kubalulekile ngokuthi ngoJesu. Uyakwazi ukuphumelela umntu apha. Nangona kubalulekile ngokuthi ngoJesu, kubalulekile ngokuthi ngoJesu. Uyakwazi ukuphumelela umntu apha. Nangona kubalulekile ngokuthi ngoJesu, kubalulekile ngokuthi ngoJesu. Uyakwazi ukuphumelela umntu apha. Nangona kubalulekile ngokuthi ngoJesu, kubalulekile ngokuthi ngoJesu. Uyakwazi ukuphumelela umntu apha. Nangona kubalulekile ngokuthi ngoJesu, kubalulekile ngokuthi ngoJesu. Uyakwazi ukuphumelela umntu apha. Nangona kubalulekile ngokuthi ngoJesu, kubalulekile ngokuthi ngoJesu. Uyakwazi ukuphumelela umntu apha. Nangona kubalulekile ngokuthi ngoJesu, kubalulekile ngokuthi ngoJesu. Uyakwazi ukuphumelela umntu apha. Nangona kubalulekile ngokuthi ngoJesu, kubalulekile ngokuthi ngoJesu. Uyakwazi ukuphumelela umntu apha. Nangona kubalulekile ngokuthi ngoJesu, kubalulekile ngokuthi ngoJesu. Uyakwazi ukuphumelela umntu apha. Nangona kubalulekile ngokuthi ngoJesu, kubalulekile ngokuthi ngoJesu. Uyakwazi ukuphumelela umntu apha. Nangona kubalulekile ngokuthi ngoJesu, kubalulekile ngokuthi ngoJesu. Uyakwazi ukuphumelela umntu apha. Nangona kubalulekile ngokuthi ngoJesu, kubalulekile ngokuthi ngoJesu. Uyakwazi ukuphumelela umntu apha. Nangona kubalulekile ngokuthi ngoJesu, kubalulekile ngokuthi ngoJesu. Uyakwazi ukuphumelela umntu apha. Nangona kubalulekile ngokuthi ngoJesu, kubalulekile ngokuthi ngoJesu. Uyakwazi ukuphumelela umntu apha. Nangona kubalulekile ngokuthi ngoJesu, kubalulekile ngokuthi ngoJesu. Uyakwazi ukuphumelela umntu apha. Nangona kubalulekile ngokuthi ngoJesu, kubalulekile ngokuthi ngoJesu. Uyakwazi ukuphumelela umntu apha. Nangona kubalulekile ngokuthi ngoJesu, kubalulekile ngokuthi ngoJesu. Uyakwazi ukuphumelela umntu apha. Nangona kubalulekile ngokuthi ngoJesu, kubalulekile ngokuthi ngoJesu. Uyakwazi ukuphumelela umntu apha. Nangona kubalulekile ngokuthi ngoJesu, kubalulekile ngokuthi ngoJesu. Uyakwazi ukuphumelela umntu apha. Nangona kubalulekile ngokuthi ngoJesu, kubalulekile ngokuthi ngoJesu. Uyakwazi ukuphumelela umntu apha. Nangona kubalulekile ngokuthi ngoJesu, kubalulekile ngokuthi ngoJesu. Uyakwazi ukuphumelela umntu apha. Nangona kubalulekile ngokuthi ngoJesu, kubalulekile ngokuthi ngoJesu. Uyakwazi ukuphumelela umntu apha. Nangona kubalulekile ngokuthi ngoJesu, kubalulekile ngokuthi ngoJesu. Uyakwazi ukuphumelela umntu apha. Nangona kubalulekile ngokuthi ngoJesu, kubalulekile ngokuthi ngoJesu. Uyakwazi ukuphumelela umntu apha. Nangona kubalulekile ngokuthi ngoJesu, kubalulekile ngokuthi ngoJesu. Uyakwazi ukuphumelela umntu apha. Nangona kubalulekile ngokuthi ngoJesu, kubalulekile ngokuthi ngoJesu. Uyakwazi ukuphumelela umntu apha. Nangona kubalulekile ngokuthi ngoJesu, kubalulekile ngokuthi ngoJesu. Uyakwazi ukuphumelela umntu apha. Nangona kubalulekile ngokuthi ngoJesu, kubalulekile ngokuthi ngoJesu. Uyakwazi ukuphumelela umntu apha. Nangona kubalulekile ngokuthi ngoJesu, kubalulekile ngokuthi ngoJesu. Uyakwazi ukuphumelela umntu apha. Nangona kubalulekile ngokuthi ngoJesu, kubalulekile ngokuthi ngoJesu. Uyakwazi ukuphumelela umntu apha. Nangona kubalulekile ngokuthi ngoJesu, kubalulekile ngokuthi ngoJesu. Uyakwazi ukuphumelela umntu apha. Nangona kubalulekile ngokuthi ngoJesu, kubalulekile ngokuthi ngoJesu. Uyakwazi ukuphumelela umntu apha. Nangona kubalulekile ngokuthi ngoJesu, kubalulekile ngokuthi ngoJesu. Uyakwazi ukuphumelela umntu apha. Nangona kubalulekile ngokuthi ngoJesu, kubalulekile ngokuthi ngoJesu. Uyakwazi ukuphumelela umntu apha. Nangona kubalulekile ngokuthi ngoJesu, kubalulekile ngokuthi ngoJesu. Uyakwazi ukuphumelela umntu apha. Nangona kubalulekile ngokuthi ngoJesu, kubalulekile ngokuthi ngoJesu. Uyakwazi ukuphumelela umntu apha. Nangona kubalulekile ngokuthi ngoJesu, kubalulekile ngokuthi ngoJesu. Uyakwazi ukuphumelela umntu apha. Nangona kubalulekile ngokuthi ngoJesu, kubalulekile ngokuthi ngoJesu. Uyakwazi ukuphumelela umntu apha. Nangona kubalulekile ngokuthi ngoJesu, kubalulekile ngokuthi ngoJesu. Uyakwazi ukuphumelela umntu apha. Nangona kubalulekile ngokuthi ngoJesu, kubalulekile ngokuthi ngoJesu. Uyakwazi ukuphumelela umntu apha. Nangona kubalulekile ngokuthi ngoJesu, kubalulekile ngokuthi ngoJesu. Uyakwazi ukuphumelela umntu apha. Nangona kubalulekile ngokuthi ngoJesu, kubalulekile ngokuthi ngoJesu. Uyakwazi ukuphumelela umntu apha. Nangona kubalulekile ngokuthi ngoJesu, kubalulekile ngokuthi ngoJesu. Uyakwazi ukuphumelela umntu apha. Nangona kubalulekile ngokuthi ngoJesu, kubalulekile ngokuthi ngoJesu. Uyakwazi ukuphumelela umntu apha. Nangona kubalulekile ngokuthi ngoJesu, kubalulekile ngokuthi ngoJesu. Uyakwazi ukuphumelela umntu apha. Nangona kubalulekile ngokuthi ngoJesu, kubalulekile ngokuthi ngoJesu. Uyakwazi ukuphumelela umntu apha. Nangona kubalulekile ngokuthi ngoJesu, kubalulekile ngokuthi ngoJesu. Uyakwazi ukuphumelela umntu apha. Nangona kubalulekile ngokuthi ngoJesu, kubalulekile ngokuthi ngoJesu. Uyakwazi ukuphumelela umntu apha. Nangona kubalulekile ngokuthi ngoJesu, kubalulekile ngokuthi ngoJesu. Uyakwazi ukuphumelela umntu apha. Nangona kubalulekile ngokuthi ngoJesu, kubalulekile ngokuthi ngoJesu. Uyakwazi ukuphumelela umntu apha. Nangona kubalulekile ngokuthi ngoJesu, kubalulekile ngokuthi ngoJesu. Uyakwazi ukuphumelela umntu apha. Nangona kubalulekile ngokuthi ngoJesu, kubalulekile ngokuthi ngoJesu. Uyakwazi ukuphumelela umntu apha. Nangona kubalulekile ngokuthi ngoJesu, kubalulekile ngokuthi ngoJesu. Uyakwazi ukuphumelela umntu apha. Nangona kubalulekile ngokuthi ngoJesu, kubalulekile ngokuthi ngoJesu. Uyakwazi ukuphumelela umntu apha. Nangona kubalulekile ngokuthi ngoJesu, kubalulekile ngokuthi ngoJesu. Uyakwazi ukuphumelela umntu apha. Nangona kubalulekile ngokuthi ngoJesu, kubalulekile ngokuthi ngoJesu. Uyakwazi ukuphumelela umntu apha. Nangona kubalulekile ngokuthi ngoJesu, kubalulekile ngokuthi ngoJesu. Uyakwazi ukuphumelela umntu apha. Nangona kubalulekile ngokuthi ngoJesu, kubalulekile ngokuthi ngoJesu. Uyakwazi ukuphumelela umntu apha. Nangona kubalulekile ngokuthi ngoJesu, kubalulekile ngokuthi ngoJesu. Uyakwazi ukuphumelela umntu apha. Nangona kubalulekile ngokuthi ngoJesu, kubalulekile ngokuthi ngoJesu. Uyakwazi ukuphumelela umntu apha. Nangona kubalulekile ngokuthi ngoJesu, kubalulekile ngokuthi ngoJesu. Uyakwazi ukuphumelela umntu apha. N\n"
     ]
    }
   ],
   "source": [
    "prompt_lang = f\"\"\" Translate this to xhosa language.\n",
    "   ```Hallelujah. Aren't you glad seeing the last day of the month of April? Because you have seen this last day of April, you will see the last day of May in the mighty name of Jesus. God is advancing somebody here. I don't know who that person is, but God is taking you forward in the precious name of Jesus. And so shall it be in Jesus' precious name. Hallelujah. Taking us forward this morning, we are still in the business.``` \"\"\"\n",
    "response = get_completion(prompt_lang)\n",
    "print(response)"
   ]
  },
  {
   "cell_type": "code",
   "execution_count": 4,
   "metadata": {},
   "outputs": [
    {
     "name": "stdout",
     "output_type": "stream",
     "text": [
      "Haleluya. Hauna kufara kubva wakatanga mwezi weApril? Nokuti uchiona mwezi weApril wakatanga, uchiona mwezi weMay wakatanga nezita rakanaka raJesu. Mwari anotonga munhu apa. Handina kuziva munhu uyu, asi Mwari anokutonga mberi nezita rakanaka raJesu. Uchaita zvakanaka zvakanaka nezita rakanaka raJesu. Haleluya. Tiri kumirira mberi muno, tiri mune business.\n"
     ]
    }
   ],
   "source": [
    "prompt_lang = f\"\"\" Translate this to shona language.\n",
    "   ```Hallelujah. Aren't you glad seeing the last day of the month of April? Because you have seen this last day of April, you will see the last day of May in the mighty name of Jesus. God is advancing somebody here. I don't know who that person is, but God is taking you forward in the precious name of Jesus. And so shall it be in Jesus' precious name. Hallelujah. Taking us forward this morning, we are still in the business.``` \"\"\"\n",
    "response = get_completion(prompt_lang)\n",
    "print(response)"
   ]
  },
  {
   "cell_type": "code",
   "execution_count": null,
   "metadata": {},
   "outputs": [],
   "source": []
  },
  {
   "cell_type": "code",
   "execution_count": null,
   "metadata": {},
   "outputs": [],
   "source": []
  }
 ],
 "metadata": {
  "kernelspec": {
   "display_name": "Python 3",
   "language": "python",
   "name": "python3"
  },
  "language_info": {
   "codemirror_mode": {
    "name": "ipython",
    "version": 3
   },
   "file_extension": ".py",
   "mimetype": "text/x-python",
   "name": "python",
   "nbconvert_exporter": "python",
   "pygments_lexer": "ipython3",
   "version": "3.10.8"
  },
  "orig_nbformat": 4
 },
 "nbformat": 4,
 "nbformat_minor": 2
}
